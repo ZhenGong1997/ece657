{
 "cells": [
  {
   "cell_type": "code",
   "execution_count": 1,
   "id": "ae519367",
   "metadata": {},
   "outputs": [],
   "source": [
    "import numpy as np\n",
    "import pandas as pd\n",
    "from matplotlib import pyplot as plt"
   ]
  },
  {
   "cell_type": "code",
   "execution_count": 2,
   "id": "53b56c64",
   "metadata": {},
   "outputs": [],
   "source": [
    "x_train = np.array(pd.read_csv('train_data.csv',header=None))\n",
    "y_train = np.array(pd.read_csv('train_labels.csv',header=None))"
   ]
  },
  {
   "cell_type": "markdown",
   "id": "5daf9800",
   "metadata": {},
   "source": [
    "## Data Processing"
   ]
  },
  {
   "cell_type": "code",
   "execution_count": 3,
   "id": "e054c3d6",
   "metadata": {},
   "outputs": [],
   "source": [
    "# split training set and validation set\n",
    "len_valid = len(x_train)//4\n",
    "x_valid = x_train[:len_valid]\n",
    "x_train = x_train[len_valid:]\n",
    "y_valid = y_train[:len_valid]\n",
    "y_train = y_train[len_valid:]"
   ]
  },
  {
   "cell_type": "markdown",
   "id": "aa5d5ad5",
   "metadata": {},
   "source": [
    "## Build the model"
   ]
  },
  {
   "cell_type": "code",
   "execution_count": 4,
   "id": "86d5ee95",
   "metadata": {},
   "outputs": [
    {
     "ename": "SyntaxError",
     "evalue": "non-default argument follows default argument (1069484552.py, line 2)",
     "output_type": "error",
     "traceback": [
      "\u001b[0;36m  File \u001b[0;32m\"/var/folders/h2/sl3x5zh518l_kmn27g_hnjwh0000gn/T/ipykernel_33173/1069484552.py\"\u001b[0;36m, line \u001b[0;32m2\u001b[0m\n\u001b[0;31m    def __init__(self, input_size, hidden_size=64, output_size):\u001b[0m\n\u001b[0m                                                              ^\u001b[0m\n\u001b[0;31mSyntaxError\u001b[0m\u001b[0;31m:\u001b[0m non-default argument follows default argument\n"
     ]
    }
   ],
   "source": [
    "class MLP:\n",
    "    def __init__(self, input_size, hidden_size, output_size):\n",
    "        self.w1 = np.random.randn(input_size, hidden_size) # 784x64\n",
    "        self.b1 = np.random.randn(1,hidden_size) # 1x64\n",
    "        self.w2 = np.random.randn(hidden_size, output_size) #64x4\n",
    "        self.b2 = np.random.randn(1, output_size) # 1x4\n",
    "        \n",
    "    def sigmoid(self, x):\n",
    "        return 1.0 / (1.0 + np.exp(-x))\n",
    "    \n",
    "    def sigmoid_derivative(self, y): \n",
    "        return y * (1.0 - y)\n",
    "    \n",
    "    # MSE\n",
    "    def loss_fn(y_pred, y):\n",
    "        loss = np.sum((y - y_pred)**2)\n",
    "        return loss\n",
    "    \n",
    "    # training process\n",
    "    def fit(self, X, Y , epochs, lr):\n",
    "        for epoch in range(epochs):\n",
    "            losses = []\n",
    "            acc_history = []\n",
    "            for x, y in zip(X,Y):\n",
    "                # Forward process\n",
    "                # calculate xw+b at hidden layer\n",
    "                z = x @ self.w1 + self.b1\n",
    "                # pass in the activation function at hidden layer\n",
    "                h_z = self.sigmoid(z)\n",
    "                # calculate the output\n",
    "                y_hat = h_z @ self.w2 + self.b2\n",
    "                # pass in the activation function\n",
    "                y_pred = self.sigmoid(y_hat)\n",
    "                \n",
    "                # compute loss for one point\n",
    "                loss = loss_fn(y_pred, y)\n",
    "                losses.append(loss)\n",
    "                \n",
    "                single_acc = point_acc(y_pred, y)\n",
    "                acc_history.append(single_acc)\n",
    "                \n",
    "                # Backward propagation process\n",
    "                # delta2 size (1,4), grad_b2 size (1,4), grad_w2 size (64,4), h_z size (1,64)\n",
    "                delta2 = ((y_pred - y) * sigmoid_derivative(y_pred)).reshape(1,-1)\n",
    "                grad_b2 = lr * delta2\n",
    "                grad_w2 = h_z.T @ grad_b2\n",
    "                \n",
    "                # w2 size (64,4), grad_b1 size (1,64), grad_w1 size (784,64), x size (1,784)\n",
    "                grad_b1 = (lr * (delta2 @ self.w2.T) * sigmoid_derivative(h_z)).reshape(1,-1)\n",
    "                grad_w1 = x.T @ grad_b1\n",
    "                \n",
    "                # update weights\n",
    "                self.w1 -= grad_w1\n",
    "                self.b1 -= grad_b1\n",
    "                self.w2 -= grad_w2\n",
    "                self.b2 -= grad_b2\n",
    "            \n",
    "            \n",
    "            epoch_loss = np.array(losses).mean()\n",
    "            epoch_acc = np.array(acc_history).mean()\n",
    "            print(\"Epoch [{}], val_loss: {:.4f}, val_acc: {:.4f}\".format(epoch, epoch_loss, epoch_acc))\n",
    "              \n",
    "            "
   ]
  },
  {
   "cell_type": "code",
   "execution_count": null,
   "id": "cfba9be1",
   "metadata": {},
   "outputs": [],
   "source": [
    "def point_acc(y_pred, y):\n",
    "    if np.argmax(y_pred) == np.argmax(y): \n",
    "        return 1\n",
    "    return 0"
   ]
  },
  {
   "cell_type": "code",
   "execution_count": null,
   "id": "192edf17",
   "metadata": {},
   "outputs": [],
   "source": [
    "mlp = MLP(input_size=x_train.shape[1], hidden_size=64, output_size = y_train.shape[1])\n",
    "mlp.fit(x_train, y_train, 10, 0.01)"
   ]
  }
 ],
 "metadata": {
  "kernelspec": {
   "display_name": "Python 3 (ipykernel)",
   "language": "python",
   "name": "python3"
  },
  "language_info": {
   "codemirror_mode": {
    "name": "ipython",
    "version": 3
   },
   "file_extension": ".py",
   "mimetype": "text/x-python",
   "name": "python",
   "nbconvert_exporter": "python",
   "pygments_lexer": "ipython3",
   "version": "3.9.7"
  }
 },
 "nbformat": 4,
 "nbformat_minor": 5
}

{
 "cells": [
  {
   "cell_type": "code",
   "execution_count": 15,
   "id": "ae519367",
   "metadata": {},
   "outputs": [],
   "source": [
    "import numpy as np\n",
    "import pandas as pd\n",
    "from matplotlib import pyplot as plt"
   ]
  },
  {
   "cell_type": "code",
   "execution_count": 16,
   "id": "53b56c64",
   "metadata": {},
   "outputs": [],
   "source": [
    "x_train = np.array(pd.read_csv('train_data.csv',header=None))\n",
    "y_train = np.array(pd.read_csv('train_labels.csv',header=None))"
   ]
  },
  {
   "cell_type": "markdown",
   "id": "5daf9800",
   "metadata": {},
   "source": [
    "## Data Processing"
   ]
  },
  {
   "cell_type": "code",
   "execution_count": 24,
   "id": "e054c3d6",
   "metadata": {},
   "outputs": [
    {
     "data": {
      "text/plain": [
       "(13925, 784)"
      ]
     },
     "execution_count": 24,
     "metadata": {},
     "output_type": "execute_result"
    }
   ],
   "source": [
    "# split training set and validation set\n",
    "len_valid = len(x_train)//4\n",
    "x_valid = x_train[:len_valid]\n",
    "x_train = x_train[len_valid:]\n",
    "y_valid = y_train[:len_valid]\n",
    "y_train = y_train[len_valid:]"
   ]
  },
  {
   "cell_type": "markdown",
   "id": "aa5d5ad5",
   "metadata": {},
   "source": [
    "## Build the model"
   ]
  },
  {
   "cell_type": "code",
   "execution_count": 2,
   "id": "86d5ee95",
   "metadata": {},
   "outputs": [
    {
     "ename": "SyntaxError",
     "evalue": "non-default argument follows default argument (2642434512.py, line 2)",
     "output_type": "error",
     "traceback": [
      "\u001b[1;36m  Input \u001b[1;32mIn [2]\u001b[1;36m\u001b[0m\n\u001b[1;33m    def __init__(self, input_size, hidden_size=64, output_size):\u001b[0m\n\u001b[1;37m                                                              ^\u001b[0m\n\u001b[1;31mSyntaxError\u001b[0m\u001b[1;31m:\u001b[0m non-default argument follows default argument\n"
     ]
    }
   ],
   "source": [
    "class MLP:\n",
    "    def __init__(self, input_size, hidden_size=64, output_size=0):\n",
    "        self.w1 = np.random.randn(input_size, hidden_size) # 784x64\n",
    "        self.b1 = np.random.randn(1,hidden_size) # 1x64\n",
    "        self.w2 = np.random.randn(hidden_size, output_size) #64x4\n",
    "        self.b2 = np.random.randn(1, output_size) # 1x4\n",
    "        \n",
    "    def sigmoid(self, x):\n",
    "        return 1.0 / (1.0 + np.exp(-x))\n",
    "    \n",
    "    def sigmoid_derivative(self, x):\n",
    "        sig = sigmoid(x)\n",
    "        return sig * (1.0 - sig)\n",
    "    \n",
    "    # training process\n",
    "    def fit(self, X, Y , epochs, lr):\n",
    "        for epoch in range(epochs):\n",
    "            for x, y in zip(X,Y):\n",
    "                # Forward process\n",
    "                # calculate xw+b at hidden layer\n",
    "                z = x @ self.w1 + self.b1\n",
    "                # pass in the activation function at hidden layer\n",
    "                h_z = self.sigmoid(z)\n",
    "                # calculate the output\n",
    "                y_hat = h_z @ self.w2 + self.b2\n",
    "                # pass in the activation function\n",
    "                y_pred = self.sigmoid(y_hat)\n",
    "                \n",
    "                # Backward propagation process\n",
    "                grad_w2 = \n",
    "                \n",
    "            "
   ]
  },
  {
   "cell_type": "code",
   "execution_count": 23,
   "id": "cfba9be1",
   "metadata": {},
   "outputs": [
    {
     "name": "stdout",
     "output_type": "stream",
     "text": [
      "Object `np.random()` not found.\n"
     ]
    }
   ],
   "source": []
  },
  {
   "cell_type": "code",
   "execution_count": null,
   "id": "192edf17",
   "metadata": {},
   "outputs": [],
   "source": []
  }
 ],
 "metadata": {
  "kernelspec": {
   "display_name": "Python 3 (ipykernel)",
   "language": "python",
   "name": "python3"
  },
  "language_info": {
   "codemirror_mode": {
    "name": "ipython",
    "version": 3
   },
   "file_extension": ".py",
   "mimetype": "text/x-python",
   "name": "python",
   "nbconvert_exporter": "python",
   "pygments_lexer": "ipython3",
   "version": "3.9.7"
  }
 },
 "nbformat": 4,
 "nbformat_minor": 5
}
